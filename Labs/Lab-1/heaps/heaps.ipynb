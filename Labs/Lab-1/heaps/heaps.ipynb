{
 "cells": [
  {
   "cell_type": "markdown",
   "metadata": {},
   "source": [
    " # Heaps\n",
    " \n",
    "* Un heap es un árbol binario cuasicompleto.\n",
    "* Un min heap es un heap $T$ que cumple la propiead de min heap para cada nodo $T'$ de $T$ \n",
    "$$\n",
    "\\text{info}(T') < \\min \\left[ \\text {info} \\left( \\text {izq} (T') \\right), \\text{info} \\left( \\text{der}(T’) \\right) \\right] \n",
    "$$\n",
    "Por tanto el elemento más pequeño está en la raíz.\n",
    "\n",
    "* Un *Heap* es una estructura recursiva: todo sub-árbol del *Heap* es a su vez un *Heap*.\n",
    "\n",
    "* Hay dos principales primitivas dinámicas en min heaps:\n",
    "    * `extract` extrae el elemento más pequeño del min heap, i.e., el de la raíz\n",
    "    * `insert` inserta un nuevo elemento en el min heap\n",
    "    \n",
    "* Ambas permiten implementaciones eficientes si el min heap está almacenado en una lista de Python."
   ]
  },
  {
   "cell_type": "markdown",
   "metadata": {},
   "source": [
    "## Heaps implementado con una lista\n",
    "\n",
    "* Supongamos un heap con $n$ elementos amlacenando en una lista con indices $0, \\ldots,  n-1$\n",
    "* Los hijos izquierdo y derecho del nodo en el índice $i$ son los nodos de índices $(2 \\cdot i+1)$ y  $(2 \\cdot i+2)$ respectivamente\n",
    "* El padre del nodo en el indice i es $(i-1)//2$"
   ]
  },
  {
   "cell_type": "markdown",
   "metadata": {},
   "source": [
    "**Ejemplo:**\n",
    "<pre>    \n",
    "            5                                 2\n",
    "          /     \\                           /     \\\n",
    "        10       15                        6        3\n",
    "       /                                 /  \\     /   \\  \n",
    "      30                              10     8   7     5\n",
    "      \n",
    "    [5, 10, 15, 30]                [2, 6, 3, 10, 8, 7, 5] \n",
    "    \n",
    " </pre>"
   ]
  },
  {
   "cell_type": "markdown",
   "metadata": {},
   "source": [
    "**Ejemplo:**\n",
    "<pre>    \n",
    "              12                                \n",
    "          /         \\                          \n",
    "        20          29                       \n",
    "       /   \\        /   \\                      \n",
    "      34    38      44   32     \n",
    "    /   \\   /  \\\n",
    "  46    52  73  65\n",
    "\n",
    "    [12, 20, 29, 34, 38, 44, 32, 46, 52, 73, 65]    \n",
    "    \n",
    " </pre>"
   ]
  },
  {
   "cell_type": "markdown",
   "metadata": {},
   "source": [
    "## Procedimiento Heapify (Min Heaps)\n",
    "\n",
    "* El procedimiento clave para procesar min heaps es la función `heapify()` que dado un nodo se asegura que el subárbol desde ese nodo es un min heap.\n",
    "\n",
    "* **Importante** Para poder aplicar el procedimiento `heapify()` sobre la ráiz de un árbol, tanto el sub-árbol izquierdo como el derecho deben ser min Heaps. \n",
    "\n",
    "* El procedimiento `heapify()` cuando se aplica sobre un nodo $i$ compara su valor con el de sus hijos, se intercambia con el de menor valor y vuelve a aplicar el procedimiento `heapify()` hasta que se detiene, bien porqué tiene un valor menor que sus hijos o bien porqué llega a una hoja."
   ]
  },
  {
   "cell_type": "markdown",
   "metadata": {},
   "source": [
    "<html>\n",
    "  <pre>\n",
    "             20                               <span style=\"color:red\">4</span> \n",
    "          /     \\                           /     \\\n",
    "        5        4           ==>          5         <span style=\"color:red\">10</span> \n",
    "       / \\      /  \\                     /  \\     /   \\  \n",
    "      9   6    10   15                 9     6  <span style=\"color:red\">20</span>     15\n",
    "  </pre>\n",
    "</html>"
   ]
  },
  {
   "cell_type": "code",
   "execution_count": 2,
   "metadata": {},
   "outputs": [
    {
     "name": "stdout",
     "output_type": "stream",
     "text": [
      "[4, 5, 10, 9, 6, 20, 15]\n"
     ]
    }
   ],
   "source": [
    "def _left(i: int) -> int:\n",
    "    '''left child index'''\n",
    "    return 2*i+1\n",
    "\n",
    "def _right(i: int) -> int:\n",
    "    '''right child index'''\n",
    "    return 2*i+2\n",
    "\n",
    "def _parent(i: int) -> int:\n",
    "    '''parent index'''\n",
    "    return (i-1)//2  \n",
    "\n",
    "\n",
    "def heapify (h, i):\n",
    "    ''' Versión 1'''\n",
    "    \n",
    "    exchange = True  \n",
    "    \n",
    "    while exchange:\n",
    "        \n",
    "        minimum = i\n",
    "        l = _left(i)\n",
    "        r = _right(i)\n",
    "        \n",
    "        # if there are childs, get the minimum \n",
    "        if l < len(h) and h[i] > h[l]:\n",
    "            minimum = l\n",
    "        if r < len(h) and h[r] < h[minimum]:\n",
    "            minimum = r\n",
    "        \n",
    "        # exchange i with the minimum\n",
    "        if  minimum != i:\n",
    "            h[i], h[minimum] = h[minimum], h[i]\n",
    "            i = minimum\n",
    "        else:\n",
    "            exchange = False\n",
    "\n",
    "\n",
    "# Driver programm\n",
    "h = [20, 5, 4, 9, 6, 10, 15]\n",
    "\n",
    "heapify (h, 0)\n",
    "print(h)"
   ]
  },
  {
   "cell_type": "code",
   "execution_count": 3,
   "metadata": {},
   "outputs": [
    {
     "name": "stdout",
     "output_type": "stream",
     "text": [
      "[7, 13, 10, 50, 14, 17]\n"
     ]
    }
   ],
   "source": [
    "def _heapify (h, i):\n",
    "    ''' Versión 2 (transparencias)'''\n",
    "    while 2*i+1 < len(h):\n",
    "        n_i = i\n",
    "        \n",
    "        if h[i] > h[2*i+1]:\n",
    "            n_i = 2*i+1\n",
    "        if 2*i+2 < len(h) and h[i] > h[2*i+2] and h[2*i+2] < h[n_i]:\n",
    "            n_i = 2*i+2\n",
    "\n",
    "        if n_i > i:\n",
    "            h[i], h[n_i] = h[n_i], h[i]\n",
    "            i = n_i\n",
    "        else:\n",
    "            return\n",
    "\n",
    "# Driver programm\n",
    "h = [50, 7, 10, 13, 14, 17]\n",
    "\n",
    "_heapify (h, 0)\n",
    "print(h)"
   ]
  },
  {
   "cell_type": "markdown",
   "metadata": {},
   "source": [
    "* El coste de heapify es claramente $O(\\text{prof} (h)) = O(\\log n) $"
   ]
  },
  {
   "cell_type": "markdown",
   "metadata": {},
   "source": [
    "  **Ejercicios Adicionales:** \\\n",
    "    1) Proporciona una versión recursiva de `heapify()` para min heaps \\\n",
    "    2) Proporciona una versión de `heapify()` para max heaps \\\n",
    "    3) Proporciona una versión recursiva de `heapify()` para max heaps "
   ]
  },
  {
   "cell_type": "markdown",
   "metadata": {},
   "source": [
    "## Insertar un nuevo nodo en un min-Heap\n"
   ]
  },
  {
   "cell_type": "code",
   "execution_count": 10,
   "metadata": {},
   "outputs": [
    {
     "name": "stdout",
     "output_type": "stream",
     "text": [
      "Heap inicial: [7, 13, 10, 50, 14, 25]\n",
      "Heap despues de insertar 1: [1, 13, 7, 50, 14, 25, 10]\n"
     ]
    }
   ],
   "source": [
    "def minheap_insert (h:list, k): \n",
    "    ''' Versión 1'''\n",
    "    \n",
    "    h.append(k)\n",
    "    j = len(h) - 1   #ultima posicion de la lista \n",
    "    \n",
    "    # procedimiento heapifyup\n",
    "    while j > 0 and h[_parent(j)] > h[j]:\n",
    "        h[_parent(j)], h[j] = h[j], h[_parent(j)]\n",
    "        j = _parent(j)\n",
    "\n",
    "\n",
    "def _minheap_insert(h:list, k):\n",
    "    '''Versión 2 (transparencias)'''\n",
    "    h += [k]                              # concateno dos listas\n",
    "    j = len(h) - 1                        # ultima posición de la lista\n",
    "    while j > 0 and h[(j-1) // 2] > h[j]:\n",
    "        h[(j-1) // 2], h[j] = h[j], h[(j-1) // 2]\n",
    "        j = (j-1) // 2     \n",
    "        \n",
    "        \n",
    "# Driver programm\n",
    "h = [50, 7, 10, 13, 14, 25]               # lista no es un heap\n",
    "_heapify(h, 0)                            # Construyo el heap\n",
    "print(f'Heap inicial: {h}')\n",
    "\n",
    "key = 1\n",
    "minheap_insert (h, key)                  # inserto key en la lista     \n",
    "print(f'Heap despues de insertar {key}: {h}')"
   ]
  },
  {
   "cell_type": "markdown",
   "metadata": {},
   "source": [
    "## Construyendo un Heap"
   ]
  },
  {
   "cell_type": "markdown",
   "metadata": {},
   "source": [
    "* Si el contenedor del heap (i.e., la lista) estuviese vacío, podemos insertar elementos *uno a uno* mediante llamadas sucesivas a la función `minheap_insert()`. En el siguiente ejemplo se construye un heap insertando sucesivamente los elementos, $10, 0, 7$ "
   ]
  },
  {
   "cell_type": "code",
   "execution_count": 5,
   "metadata": {},
   "outputs": [
    {
     "data": {
      "text/plain": [
       "[0, 10, 7]"
      ]
     },
     "execution_count": 5,
     "metadata": {},
     "output_type": "execute_result"
    }
   ],
   "source": [
    "h=[]                      # contenedor de los elementos del heap\n",
    "minheap_insert(h, 10)    # Se inserte el elemento 10 \n",
    "minheap_insert(h, 0)\n",
    "minheap_insert(h, 7)\n",
    "h"
   ]
  },
  {
   "cell_type": "markdown",
   "metadata": {},
   "source": [
    "* Sin embargo, suponga que ya se dispone de la lista con los elementos y se desea *organizarlos* en un minHeap. *A priori* tenemos dos posibilidades. Ambas son **_in-place_**, i.e, **no requieren memoria adicional**:\n",
    "    * `minheap_build()` utiliza iterativamente el procedimiento `heapify()`. Empieza desde el padre del último nodo de la lista y se invoca iterativamente el procedimiento `heapify(h, i)` decrementando el índice del nodo $i$ en cada iteración.  \n",
    "    * `_minheap_build()`utiliza un procedimiento equivalente a `minheap_insert()`. Empezando desde el nodo raíz e intercambiándose con su padre, el *nodo va subiendo* por el heap hasta que o bien tiene un valor mayor que su padre o bien llega a la raíz del árbol."
   ]
  },
  {
   "cell_type": "code",
   "execution_count": 12,
   "metadata": {},
   "outputs": [
    {
     "name": "stdout",
     "output_type": "stream",
     "text": [
      "Tabla inicial: [10, 9, 7, 2, 4, 5, 8, 1]\n",
      "Heap: [1, 2, 5, 9, 4, 7, 8, 10]\n"
     ]
    }
   ],
   "source": [
    "def minheap_build (l:list):\n",
    "    ''' utiliza heapify'''\n",
    "    \n",
    "    j = _parent(len(l)-1)  #índice del padre del ultimo nodo \n",
    "\n",
    "    while j >-1:\n",
    "        _heapify (l, j)\n",
    "        j -= 1\n",
    "   \n",
    "# Driver programm\n",
    "\n",
    "l = [10, 9, 7, 2, 4, 5, 8, 1]\n",
    "print(f'Tabla inicial: {l}')\n",
    "minheap_build (l)\n",
    "print(f'Heap: {l}')"
   ]
  },
  {
   "cell_type": "code",
   "execution_count": 15,
   "metadata": {},
   "outputs": [
    {
     "name": "stdout",
     "output_type": "stream",
     "text": [
      "Tabla inicial: [10, 9, 7, 2, 4, 5, 8, 1]\n"
     ]
    },
    {
     "name": "stdout",
     "output_type": "stream",
     "text": [
      "Heap: [1, 2, 5, 4, 7, 9, 8, 10]\n"
     ]
    }
   ],
   "source": [
    "def _minheap_build(l:list):\n",
    "    ''' Utiliza heapifyup \n",
    "        Este procedimiento NO debe usarse\n",
    "    '''\n",
    "    \n",
    "    def heapifyup(h, j):\n",
    "        while j > 0 and h[_parent(j)] > h[j]:\n",
    "            h[_parent(j)], h[j] = h[j], h[_parent(j)]\n",
    "            j = _parent(j)\n",
    "    \n",
    "    for i in range(len(l)):\n",
    "        heapifyup (l, i)\n",
    "        \n",
    "\n",
    "##### Driver programm\n",
    "l = [10, 9, 7, 2, 4, 5, 8, 1]\n",
    "print(f'Tabla inicial: {l}')\n",
    "_minheap_build (l)\n",
    "print(f'Heap: {l}') "
   ]
  },
  {
   "cell_type": "markdown",
   "metadata": {},
   "source": [
    "* Notad como los dos procedimientos para construir un min-heap **no** producen los mismos resultados.\n",
    "* ¿Cúal es el coste de los dos procedimientos? Ambos procedimientos requieren $O(\\log n)$ para *recolocar* cada uno nodo en su posición final. Al haber $n$ nodos, $O(n \\log n)$. Sin embargo hay una **gran diferencia** entre ambos procedimientos. En `minheap_build` la mayoría de los nodos que tienen que ejecutar el procedimiento `heapifyDown`están situados lejos de la raíz. Por tanto, el número de veces que se ejecuta la recurrencia hasta recolocar el nodo en el Heap es bajo, recuerda que el nodo *desciende por el árbol*. Sin embargo en `_minheap_ build` los nodos se insertan *por el fondo* y tienen que recolocarse  con el procedimiento `heapifyUp` *ascendiendo desde abajo*. La mayoría de los nodos que se insertan están lejos de la ráiz y, en consecuencia, hay que ejecutar muchas veces la recurrencia del procedimiento.\n",
    "\n",
    "    Por ejemplo, suponga el **peor caso**: crear un min-Heap *in-place* a partir de una lista decreciente, i.e.,  ordenada de mayor a menor. Si el número de elementos de la lista es $n =2^4- 1 = 15$, el árbol binario completo tendrá 4 niveles. En el procedimiento `minheap_build`se ejecutarían 11 movimientos de nodos mientras que en `_minheap_ build` serían 40.\n",
    " \n",
    "     Es decir, que aunque ambos procedimientos *parecen* tener el mismo coste $O(n \\log n)$ este **no** es un límite ajustado para minheap_build  _(no tight)_. De hecho, cuando se consideran las diferentes alturas de los nodos, es fácil, demostrar que  el coste de `minheap_build` es $O(n)$ (Cormen et al.). Por tanto, debe **usarse solo** este procedimiento para construir el Heap."
   ]
  }
 ],
 "metadata": {
  "kernelspec": {
   "display_name": "AEDAS",
   "language": "python",
   "name": "python3"
  },
  "language_info": {
   "codemirror_mode": {
    "name": "ipython",
    "version": 3
   },
   "file_extension": ".py",
   "mimetype": "text/x-python",
   "name": "python",
   "nbconvert_exporter": "python",
   "pygments_lexer": "ipython3",
   "version": "3.10.12"
  },
  "orig_nbformat": 4
 },
 "nbformat": 4,
 "nbformat_minor": 2
}
