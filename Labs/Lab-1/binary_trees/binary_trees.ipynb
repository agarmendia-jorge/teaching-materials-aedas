{
 "cells": [
  {
   "cell_type": "code",
   "execution_count": null,
   "metadata": {},
   "outputs": [],
   "source": [
    "from typing import List\n",
    "\n",
    "#Recursive Binary Search\n",
    "def bin_search_rec(l: List[int], key: int, first: int, last: int) -> int:\n",
    "    if last >= first:\n",
    "        mid = (first + last) // 2\n",
    "        if l[mid] == key:\n",
    "            return mid\n",
    "        else:\n",
    "            if l[mid] < key:\n",
    "                return bin_search_rec(l, mid+1, last, key)\n",
    "            else:\n",
    "                return bin_search_rec(l, first, mid-1, key)\n",
    "    return None\n",
    "\n",
    "#Non-recursive\n",
    "def bin_search_non_rec(l: List[int], key: int, first: int, last: int) -> int:\n",
    "    while first <= last:\n",
    "        mid = (first + last) // 2\n",
    "        if key == l[mid]:\n",
    "            return mid\n",
    "        elif key < l[mid]:\n",
    "            last = mid-1\n",
    "        else:\n",
    "            first = mid+1\n",
    "    return None"
   ]
  }
 ],
 "metadata": {
  "language_info": {
   "name": "python"
  },
  "orig_nbformat": 4
 },
 "nbformat": 4,
 "nbformat_minor": 2
}
