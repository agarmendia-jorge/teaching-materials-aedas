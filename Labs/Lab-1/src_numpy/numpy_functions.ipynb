{
 "cells": [
  {
   "cell_type": "markdown",
   "metadata": {},
   "source": [
    "## Numpy\n",
    "\n",
    "### Arrays\n",
    "\n",
    "* Supongamos que deseamos hacer ciertos cálculos algebraicos y necesitamos utilizar vectores y matrices. ¿Como podemos implementarlas en Python? \n",
    "    * Podemos utilizar listas \n",
    "    * Mucho mejor: con Arrays, objetos definidos en el módulo Numpy  "
   ]
  },
  {
   "cell_type": "code",
   "execution_count": 2,
   "metadata": {},
   "outputs": [
    {
     "name": "stdout",
     "output_type": "stream",
     "text": [
      "[1 2 3]\n",
      "[[ 1  2  3]\n",
      " [14  5  6]\n",
      " [27  8  9]]\n",
      "Dimensión de a: (3,)\n",
      "Dimensión de b: (3, 3)\n",
      "5\n",
      "[1 2 3]\n",
      "[2 3]\n"
     ]
    }
   ],
   "source": [
    "import numpy as np\n",
    "\n",
    "a = np.array ([1,2,3])   #conversion de lista en array\n",
    "b = np.array ( [[1,2,3], [14,5,6], [27,8,9]] )\n",
    "\n",
    "print(a)\n",
    "print(b)\n",
    "\n",
    "#Retornar las dimensiones del np.array\n",
    "print(f\"Dimensión de a: {np.shape(a)}\")\n",
    "print(f\"Dimensión de b: {np.shape(b)}\")\n",
    "\n",
    "#Los np.array se pueden particionar e indexar\n",
    "print(b[1,1])\n",
    "print(b[0, ]) # Primera fila\n",
    "print(b[0, 1:3]) \n"
   ]
  },
  {
   "cell_type": "markdown",
   "metadata": {},
   "source": [
    "Métodos de Numpy Array"
   ]
  },
  {
   "cell_type": "code",
   "execution_count": 3,
   "metadata": {},
   "outputs": [],
   "source": [
    "m = np.empty ((3,3))     # Retorna una matriz sin inicializar valores (3,3)\n",
    "m = np.zeros ((5, 5))    # Una matriz cuadrada 5 x 5 llena de ceros\n",
    "m = np.eye(5)            # Matriz identidad de 5 x 5\n",
    "\n",
    "c = m.dot(m)             # Multiplicación de dos arrays\n",
    "#Generación de matrices aleatorias\n",
    "dim = 2\n",
    "m = np.random.uniform(0., 100, (dim, dim))\n"
   ]
  },
  {
   "cell_type": "code",
   "execution_count": 14,
   "metadata": {},
   "outputs": [
    {
     "name": "stdout",
     "output_type": "stream",
     "text": [
      "[127 128 129]\n",
      "<class 'numpy.int64'>\n",
      "[127 128 129]\n",
      "<class 'numpy.int32'>\n"
     ]
    }
   ],
   "source": [
    "#Crear numpy array int\n",
    "array_int64 = np.array([127, 128, 129], dtype=np.int64)\n",
    "print(array_int64)\n",
    "print(type(array_int64[0]))\n",
    "\n",
    "#Crear numpy array int\n",
    "array = np.array([127, 128, 129])\n",
    "print(array)\n",
    "print(type(array[0]))"
   ]
  }
 ],
 "metadata": {
  "kernelspec": {
   "display_name": "AEDAS",
   "language": "python",
   "name": "python3"
  },
  "language_info": {
   "codemirror_mode": {
    "name": "ipython",
    "version": 3
   },
   "file_extension": ".py",
   "mimetype": "text/x-python",
   "name": "python",
   "nbconvert_exporter": "python",
   "pygments_lexer": "ipython3",
   "version": "3.10.12"
  },
  "orig_nbformat": 4
 },
 "nbformat": 4,
 "nbformat_minor": 2
}
