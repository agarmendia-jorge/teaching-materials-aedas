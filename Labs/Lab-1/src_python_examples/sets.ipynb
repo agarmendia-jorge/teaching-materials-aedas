{
 "cells": [
  {
   "cell_type": "markdown",
   "metadata": {},
   "source": [
    "Los Sets son una estructura de datos que representa una colección de \"elementos distintos\""
   ]
  },
  {
   "cell_type": "code",
   "execution_count": null,
   "metadata": {},
   "outputs": [],
   "source": [
    "#Ejemplo de inicialización de un set\n",
    "s = set()\n",
    "s.add(1) #s sería {1}\n",
    "s.add(2) #s sería {1, 2}\n",
    "s.add(2) #s no cambiaría {1, 2}\n",
    "\n",
    "size_s = len(s) # Igual a 2\n",
    "y = 2 in s      #Igual a True\n",
    "z = 3 in s      #Igual a False"
   ]
  },
  {
   "cell_type": "code",
   "execution_count": null,
   "metadata": {},
   "outputs": [],
   "source": [
    "#Los Sets son más rápidos para buscar elementos que en una lista y podemos encontrar elementos diferentes en una lista\n",
    "item_list = [1, 2, 3, 1, 2, 3]\n",
    "num_items = len(item_list)          # 6\n",
    "item_set = set(item_list)           # {1, 2, 3}\n",
    "num_distinct_items = len(item_set)  # 3 \n",
    "distinct_item_list = list(item_set) # [1, 2, 3]"
   ]
  }
 ],
 "metadata": {
  "kernelspec": {
   "display_name": "AEDAS",
   "language": "python",
   "name": "python3"
  },
  "language_info": {
   "name": "python",
   "version": "3.10.12"
  },
  "orig_nbformat": 4
 },
 "nbformat": 4,
 "nbformat_minor": 2
}
