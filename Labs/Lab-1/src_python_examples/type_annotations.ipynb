{
 "cells": [
  {
   "cell_type": "markdown",
   "metadata": {},
   "source": [
    "Type Annotations \n",
    "Python es un lenguaje de tipado dinámico (duck typing). Esto significa que en general no necesitamos definir el tipo de datos."
   ]
  },
  {
   "cell_type": "code",
   "execution_count": 6,
   "metadata": {},
   "outputs": [
    {
     "name": "stdout",
     "output_type": "stream",
     "text": [
      "No se puede añadir un int a un string\n"
     ]
    }
   ],
   "source": [
    "#Ejemplo\n",
    "def add(a, b):\n",
    "    return a + b\n",
    "\n",
    "assert add(10,5) == 15 #Válido para números             \n",
    "assert add([1, 2], [3]) == [1, 2, 3] #Válido para listas\n",
    "assert add(\"hi \", \"there\") == \"hi there\" #Válido para strings\n",
    "\n",
    "#No es válido si se quiere sumar un int y un string\n",
    "#Ejemplo\n",
    "try:\n",
    "    add(10, \"five\")\n",
    "except TypeError:\n",
    "    print (\"No se puede añadir un int a un string\")\n"
   ]
  },
  {
   "cell_type": "markdown",
   "metadata": {},
   "source": [
    "Ventajas de usar el tipado\n",
    "- Los tipos son una importante forma de documentación\n",
    "    - Te ayuda a crear funciones más limpias\n",
    "- Existen herramientas externas (e.g., mypy) que analiza el código estáticamente y te avisa de los errores de tipado antes de ejecutar el código\n",
    "- Si usas un IDE entonces puedes beneficiarte del autocompletado i.e, \"code completion\""
   ]
  },
  {
   "cell_type": "code",
   "execution_count": 15,
   "metadata": {},
   "outputs": [
    {
     "name": "stdout",
     "output_type": "stream",
     "text": [
      "<class 'generator'>\n",
      "0\n",
      "2\n",
      "4\n",
      "6\n",
      "8\n"
     ]
    }
   ],
   "source": [
    "#Ejemplo de como utilizar tipos\n",
    "def add_typed(a: int, b: int) -> int:\n",
    "    return a + b\n",
    "\n",
    "#Mayúscula L\n",
    "from typing import List\n",
    "\n",
    "def total(xs: List[float]) -> float:\n",
    "    return sum(xs)\n",
    "\n",
    "#String\n",
    "x_str: str = \"a\"\n",
    "\n",
    "#Integer\n",
    "x_int: int = 5\n",
    "\n",
    "#Float\n",
    "x_float: float = 5.67\n",
    "\n",
    "#Lista de enteros\n",
    "values_int: List[int] = []\n",
    "\n",
    "#Uso del optional\n",
    "from typing import Optional\n",
    "\n",
    "list_optional_values: Optional[float] = None #Permite floats o None\n",
    "\n",
    "#Otros tipos de tipos\n",
    "from typing import Dict, Iterable, Tuple\n",
    "\n",
    "#Los IDs son strings y los valores son enteros\n",
    "counts: Dict [str, int] = {\"Algoritmos\" : 1, \"Estructuras\": 2}\n",
    "\n",
    "#Las listas son iterables\n",
    "evens_1 : Iterable[int] = (x for x in range(10) if x % 2 == 0)\n",
    "\n",
    "evens_2 = [0, 2, 4, 6, 8]\n",
    "\n",
    "#Tuplas que definen tipos por cada elemento\n",
    "triple: Tuple[int, float, int] = (9, 2.8, 5)\n",
    "\n",
    "#print(type(evens_1))\n",
    "#for e in evens_1:\n",
    "#    print(e)"
   ]
  },
  {
   "cell_type": "markdown",
   "metadata": {},
   "source": [
    "Las funciones en Python también tienen tipos"
   ]
  },
  {
   "cell_type": "code",
   "execution_count": 18,
   "metadata": {},
   "outputs": [
    {
     "name": "stdout",
     "output_type": "stream",
     "text": [
      "type hints, type hints\n"
     ]
    }
   ],
   "source": [
    "#Ejemplo\n",
    "from typing import Callable\n",
    "\n",
    "#Esta función espera como parámetro una función que espere como argumento un string y un entero\n",
    "#y retorne un string\n",
    "def twice(repeater: Callable[[str,int], str], s: str) -> str:\n",
    "    return repeater(s,2)\n",
    "\n",
    "def comma_repeater(s: str, n: int) -> str:\n",
    "    n_copies = [s for _ in range(n)]\n",
    "    return ', '.join(n_copies)\n",
    "\n",
    "print(twice(comma_repeater, \"type hints\"))"
   ]
  }
 ],
 "metadata": {
  "kernelspec": {
   "display_name": "AEDAS",
   "language": "python",
   "name": "python3"
  },
  "language_info": {
   "codemirror_mode": {
    "name": "ipython",
    "version": 3
   },
   "file_extension": ".py",
   "mimetype": "text/x-python",
   "name": "python",
   "nbconvert_exporter": "python",
   "pygments_lexer": "ipython3",
   "version": "3.10.12"
  },
  "orig_nbformat": 4
 },
 "nbformat": 4,
 "nbformat_minor": 2
}
