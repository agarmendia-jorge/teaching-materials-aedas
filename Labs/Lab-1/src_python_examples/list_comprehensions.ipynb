{
 "cells": [
  {
   "cell_type": "markdown",
   "metadata": {},
   "source": [
    "Usualmente quieres transformar una lista en otra lista pero solamente con determinados elementos. La forma de Python de hacer esto es usando \"list comprehensions\""
   ]
  },
  {
   "cell_type": "code",
   "execution_count": 3,
   "metadata": {},
   "outputs": [
    {
     "name": "stdout",
     "output_type": "stream",
     "text": [
      "[0, 2, 4]\n",
      "[0, 1, 4, 9, 16]\n",
      "[0, 4, 16]\n"
     ]
    }
   ],
   "source": [
    "# Ejemplo\n",
    "even_numbers = [x for x in range(5) if x % 2 == 0]\n",
    "squares = [x * x for x in range(5)]\n",
    "even_squares = [x * x for x in range(5) if x % 2 == 0]\n",
    "\n",
    "print(even_numbers)\n",
    "print(squares)\n",
    "print(even_squares)"
   ]
  },
  {
   "cell_type": "code",
   "execution_count": 5,
   "metadata": {},
   "outputs": [
    {
     "name": "stdout",
     "output_type": "stream",
     "text": [
      "{0: 0, 1: 1, 2: 4, 3: 9, 4: 16}\n",
      "{1}\n"
     ]
    }
   ],
   "source": [
    "#Se puede transformar en diccionarios o sets\n",
    "squares_dict = {x: x * x for x in range(5)}\n",
    "squares_set = {x * x for x in [1, -1]}\n",
    "\n",
    "print(squares_dict)\n",
    "print(squares_set)\n"
   ]
  }
 ],
 "metadata": {
  "kernelspec": {
   "display_name": "AEDAS",
   "language": "python",
   "name": "python3"
  },
  "language_info": {
   "codemirror_mode": {
    "name": "ipython",
    "version": 3
   },
   "file_extension": ".py",
   "mimetype": "text/x-python",
   "name": "python",
   "nbconvert_exporter": "python",
   "pygments_lexer": "ipython3",
   "version": "3.10.12"
  },
  "orig_nbformat": 4
 },
 "nbformat": 4,
 "nbformat_minor": 2
}
