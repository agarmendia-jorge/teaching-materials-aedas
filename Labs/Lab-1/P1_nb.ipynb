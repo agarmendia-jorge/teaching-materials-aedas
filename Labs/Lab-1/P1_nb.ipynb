{
 "cells": [
  {
   "cell_type": "code",
   "execution_count": 1,
   "metadata": {},
   "outputs": [
    {
     "name": "stdout",
     "output_type": "stream",
     "text": [
      "[[6907.38590837 6801.39602382]\n",
      " [ 500.90332474 1269.38987712]]\n"
     ]
    }
   ],
   "source": [
    "#Dos formas de importar un .py\n",
    "# 1) Usando import\n",
    "import numpy as np\n",
    "import P1\n",
    "\n",
    "m_1: np.array = np.random.uniform(0., 100, (2, 2))\n",
    "m_2: np.array = np.random.uniform(0., 100, (2, 2))\n",
    "\n",
    "#Llamar al método\n",
    "result = P1.matrix_multiplication(m_1, m_2)\n",
    "print(result)"
   ]
  },
  {
   "cell_type": "code",
   "execution_count": 2,
   "metadata": {},
   "outputs": [
    {
     "name": "stdout",
     "output_type": "stream",
     "text": [
      "[[4030.26772672 1175.09793368]\n",
      " [9532.14142723 4258.53990345]]\n"
     ]
    }
   ],
   "source": [
    "#2 Usando from directamente\n",
    "from P1 import matrix_multiplication\n",
    "\n",
    "m_1: np.array = np.random.uniform(0., 100, (2, 2))\n",
    "m_2: np.array = np.random.uniform(0., 100, (2, 2))\n",
    "\n",
    "#Llamar al método\n",
    "result = matrix_multiplication(m_1, m_2)\n",
    "print(result)"
   ]
  }
 ],
 "metadata": {
  "kernelspec": {
   "display_name": "AEDAS",
   "language": "python",
   "name": "python3"
  },
  "language_info": {
   "codemirror_mode": {
    "name": "ipython",
    "version": 3
   },
   "file_extension": ".py",
   "mimetype": "text/x-python",
   "name": "python",
   "nbconvert_exporter": "python",
   "pygments_lexer": "ipython3",
   "version": "3.10.12"
  },
  "orig_nbformat": 4
 },
 "nbformat": 4,
 "nbformat_minor": 2
}
