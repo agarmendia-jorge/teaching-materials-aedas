{
 "cells": [
  {
   "cell_type": "markdown",
   "metadata": {},
   "source": [
    "## Queue\n",
    "\n",
    "### Priority Queue\n",
    "    Es una extension de Queue con las siguientes propiedades:\n",
    "- Un elemento con alta prioridad se retira de la cola antes que un elemento con baja prioridad\n",
    "- Si dos elementos tienen la misma prioridad, se retiran según su orden en la cola"
   ]
  },
  {
   "cell_type": "code",
   "execution_count": 4,
   "metadata": {},
   "outputs": [
    {
     "name": "stdout",
     "output_type": "stream",
     "text": [
      "La cola está llena: True\n",
      "(1, 'A')\n",
      "(2, 'E')\n",
      "Elementos en la cola: 3\n",
      "La cola esta vacía: False\n"
     ]
    }
   ],
   "source": [
    "from queue import PriorityQueue\n",
    "#Creación de una PriorityQueue\n",
    "pq: PriorityQueue = PriorityQueue(maxsize=5) # Maxsize es el número máximo de elementos que se pueden insertar en una cola.\n",
    "#Creación de una PriorityQueue con maxsize=0\n",
    "pq_default: PriorityQueue = PriorityQueue() # Si el valor de maxsize es menor o igual a 0, entonces el tamaño de la cola es infinito\n",
    "\n",
    "#Funciones Básicas\n",
    "#Insertar elementos en una cola de prioridad\n",
    "pq.put((1, 'A'))\n",
    "pq.put((2, 'E'))\n",
    "pq.put((3, 'D'))\n",
    "pq.put((4, 'A'))\n",
    "pq.put((5, 'S'))\n",
    "\n",
    "# Comprobar si la cola esta llena \n",
    "print('La cola está llena:', pq.full()) \n",
    "\n",
    "#Eliminar y devolver el elemento de menor prioridad\n",
    "print(pq.get()) \n",
    "print(pq.get()) \n",
    "\n",
    "# Cantidad de Elementos en la PriorityQueue \n",
    "print('Elementos en la cola:', pq.qsize()) \n",
    "\n",
    "# Comprobar si la cola esta vacía \n",
    "print('La cola esta vacía:', pq.empty()) "
   ]
  }
 ],
 "metadata": {
  "kernelspec": {
   "display_name": "AEDAS",
   "language": "python",
   "name": "python3"
  },
  "language_info": {
   "codemirror_mode": {
    "name": "ipython",
    "version": 3
   },
   "file_extension": ".py",
   "mimetype": "text/x-python",
   "name": "python",
   "nbconvert_exporter": "python",
   "pygments_lexer": "ipython3",
   "version": "3.10.12"
  }
 },
 "nbformat": 4,
 "nbformat_minor": 2
}
