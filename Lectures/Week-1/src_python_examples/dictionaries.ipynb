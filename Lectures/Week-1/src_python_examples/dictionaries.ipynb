{
 "cells": [
  {
   "cell_type": "code",
   "execution_count": 7,
   "metadata": {},
   "outputs": [
    {
     "name": "stdout",
     "output_type": "stream",
     "text": [
      "No existe la nota de Leonor!\n",
      "Son 3  estudiantes\n",
      "dict_values([5, 7, 6])\n"
     ]
    }
   ],
   "source": [
    "#Dictionarios: Es una estructura de datos fundamental en Python, que asocia valores (values) con llaves (keys)\n",
    "empty_dict = {}      #Pythonic\n",
    "empty_dict2 = dict() #No tan Pythonic\n",
    "grades = {\"María\" : 9, \"Jose\": 7}\n",
    "\n",
    "#Comprobar si una clave existe\n",
    "marias_has_grade = \"María\" in grades  #True\n",
    "leonor_has_grade = \"Leonor\" in grades #False\n",
    "\n",
    "#Obtener valores\n",
    "marias_grade = grades[\"María\"]\n",
    "\n",
    "#KeyError si la llave no está en el dictionario\n",
    "try:\n",
    "    leonors_grade = grades[\"Leonor\"]\n",
    "except KeyError: \n",
    "    print(\"No existe la nota de Leonor!\")\n",
    "\n",
    "#El método get de los diccionarios return un valor por defecto sin lanzar una excepción\n",
    "marias_grade = grades.get(\"María\", 0) #igual a 9\n",
    "joses_grade = grades.get(\"Jose\", 0)   #igual a 7\n",
    "no_ones_grade = grades.get(\"No one\")  #default is None\n",
    "\n",
    "#Asignar valores usando los corchetes\n",
    "grades[\"María\"] = 5  #Actualiza el valor\n",
    "grades[\"Leonor\"] = 6 #Añade una tercer estudiante\n",
    "\n",
    "print(f\"Son {len(grades)}  estudiantes\")\n",
    "\n",
    "#Podemos buscar todos las llaves, valores y estudiantes\n",
    "\n",
    "grade_keys = grades.keys()      #Iterable los índices\n",
    "grade_values = grades.values()  #Itera los valores\n",
    "grade_items = grades.items()    #Itera los items\n"
   ]
  }
 ],
 "metadata": {
  "kernelspec": {
   "display_name": "AEDAS",
   "language": "python",
   "name": "python3"
  },
  "language_info": {
   "codemirror_mode": {
    "name": "ipython",
    "version": 3
   },
   "file_extension": ".py",
   "mimetype": "text/x-python",
   "name": "python",
   "nbconvert_exporter": "python",
   "pygments_lexer": "ipython3",
   "version": "3.10.12"
  },
  "orig_nbformat": 4
 },
 "nbformat": 4,
 "nbformat_minor": 2
}
