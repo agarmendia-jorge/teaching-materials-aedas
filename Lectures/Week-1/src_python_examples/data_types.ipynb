{
 "cells": [
  {
   "cell_type": "markdown",
   "metadata": {},
   "source": [
    "Tipos de Datos \\\n",
    "    - En python todo es un objeto, por tanto los son todos los tipos de datos \\\n",
    "Dos tipos de generales de datos \\\n",
    "    - Escalares: int, float, complex, bool (True or False) \\\n",
    "    - Contenedores (tipos estructurados): Tienen una estructura interna que contiene un número arbitrario de enlaces a escalares o a otros  contenedores\\\n",
    "        Ejemplo: Strings (str), Listas, Tuplas, Diccionarios, Conjuntos    "
   ]
  },
  {
   "cell_type": "code",
   "execution_count": 2,
   "metadata": {},
   "outputs": [
    {
     "name": "stdout",
     "output_type": "stream",
     "text": [
      "Valor 3 y su tipo es <class 'int'>\n",
      "Valor True y su tipo es <class 'bool'>\n",
      "Es instancia de la clase entero: True\n"
     ]
    }
   ],
   "source": [
    "#Escalares\n",
    "a = 3             # Objeto de tipo entero\n",
    "g = True          # Objeto de tipo booleano\n",
    "print (f\"Valor {a} y su tipo es {type(a)}\")\n",
    "print (f\"Valor {g} y su tipo es {type(g)}\") \n",
    "\n",
    "print(f\"Es instancia de la clase entero: {isinstance (a, int)}\")    # Preguntamos si el objeto a es una instancia de la clase int"
   ]
  },
  {
   "cell_type": "code",
   "execution_count": 2,
   "metadata": {},
   "outputs": [
    {
     "name": "stdout",
     "output_type": "stream",
     "text": [
      "El valor de la cadena es: AEDAS, su longitud es: 5       y su tipo de datos: <class 'str'> \n",
      "A\n",
      "E\n",
      "D\n",
      "A\n",
      "S\n"
     ]
    }
   ],
   "source": [
    "#Strings\n",
    "#Pueden ser definidos con comillas simples o dobles\n",
    "single_quoted_string = 'AEDAS'\n",
    "double_quoted_string = \"AEDAS\"\n",
    "tab_string = \"/t\"\n",
    "print(f\"El valor de la cadena es: {single_quoted_string}, su longitud es: {len(single_quoted_string)} \\\n",
    "      y su tipo de datos: {type(single_quoted_string)} \")\n",
    "\n",
    "#Las cadenas son iterables\n",
    "# Iterando sobre la cadena\n",
    "# En cada paso de la iteración x toma el valor de un caracter de la cadena a \n",
    "for c in single_quoted_string:\n",
    "    print(c)"
   ]
  },
  {
   "cell_type": "markdown",
   "metadata": {},
   "source": [
    "Se puede convertir un objeto en un str. Usando la función \"str()\""
   ]
  },
  {
   "cell_type": "code",
   "execution_count": 3,
   "metadata": {},
   "outputs": [
    {
     "name": "stdout",
     "output_type": "stream",
     "text": [
      "<class 'int'>\n",
      "127 127\n",
      "<class 'str'>\n",
      "127 127\n",
      "<class 'int'>\n",
      "<class 'str'>\n",
      "148\n"
     ]
    }
   ],
   "source": [
    "a = 127\n",
    "b = 127\n",
    "print(type(a))\n",
    "print(a, b)\n",
    "\n",
    "\n",
    "# a enlaza ahora con el nuevo objeto, esto es, con la cadena de caracteres 127.  \n",
    "a = str(a) \n",
    "print(type(a))\n",
    "print(a, b)\n",
    "\n",
    "#Es posible usando la función __str__()\n",
    "c = 148\n",
    "print(type(c))\n",
    "c = c.__str__()\n",
    "print(type(c))\n",
    "print(c)"
   ]
  },
  {
   "cell_type": "code",
   "execution_count": 2,
   "metadata": {},
   "outputs": [
    {
     "name": "stdout",
     "output_type": "stream",
     "text": [
      "Suma de la lista de enteros: 6\n",
      "Longitud lista de heterogénea: 3\n"
     ]
    }
   ],
   "source": [
    "#Listas: es una colección ordenada. Es un objeto iterable y mutable \n",
    "#Ejemplos\n",
    "empty_list = []\n",
    "integer_list = [1,2,3]\n",
    "heterogeneous_list = [\"string\", 0.1, True]\n",
    "list_of_lists = [integer_list, heterogeneous_list, empty_list]\n",
    "\n",
    "print(f\"Suma de la lista de enteros: {sum(integer_list)}\")\n",
    "print(f\"Longitud lista de heterogénea: {len(heterogeneous_list)}\")\n",
    "\n",
    "#Diferentes formas de obtener elementos de una lista\n",
    "#Ejemplos\n",
    "\n",
    "x = [0, 1, 2, 3, 4, 5, 6, 7, 8, 9]\n",
    "\n",
    "zero = x[0]   #Primer elemento de la lista\n",
    "one = x[1]    #Igual a 1\n",
    "nine = x[-1]  #Último elemento, igual a 9\n",
    "eight = x[-2] #Penúltimo elemento\n",
    "x[0] = -1     #Ahora la lista empieza por -1\n",
    "\n",
    "#Diferentes formas de obtener partes de una lista\n",
    "#Ejemplos\n",
    "\n",
    "first_three = x[:3]                  #Primeros tres elementos [-1, 1, 2]\n",
    "three_to_end = x[3:]                 #Lista desde el tercer elemento hasta el último\n",
    "one_to_four = x[1:5]                 #Lista desde el primer elemento hasta el cuarto\n",
    "last_three = x[-3:]                  #Últimos tres elementos\n",
    "without_first_and_last = x[1:-1]     #Sin el primer elemento ni el último\n",
    "copy_of_x = x[:]                     #Copia de la lista. Las subsequencias crean copias.\n",
    "\n",
    "#Además se pueden hacer partes de una lista que no sea de manera secuencial. Es decir, saltando elementos. \n",
    "#Para ello, se tiene que añadir un tercer parámetro que se conoce como \"stride\"\n",
    "#Ejemplos\n",
    "\n",
    "every_third = x[::3]            # Cada tres elementos, resultado: [-1, 3, 6, 9]\n",
    "every_third_reverse = x[::-3]   # Al revés, Resultado: [9, 6, 3, -1]\n",
    "five_to_three = x[5:2:-1]       # Resultado: [5,4,3]\n",
    "\n",
    "#Chequear la lista\n",
    "1 in [1, 2, 3] #True\n",
    "0 in [1, 2, 3] #False\n",
    "\n",
    "#Concatenar las listas\n",
    "x = [1,2,3]\n",
    "x.extend([4,5,6]) #Ahora x sería: [1, 2, 3, 4, 5, 6]\n",
    "\n",
    "#Si no quieres modificar x utiliza la adición (+)\n",
    "x = [1,2,3]\n",
    "y = x + [4, 5, 6]\n",
    "\n",
    "#Añadir valores a la lista\n",
    "x = [1,2,3]\n",
    "x.append(0)\n",
    "\n",
    "#Dividir la lista\n",
    "x, y = [1, 2] \n",
    "\n",
    "#Si alguno de los dos valores no son necesarios, es una buena práctica (se estila) usar el guión bajo\n",
    "_, y = [1,2]"
   ]
  },
  {
   "cell_type": "markdown",
   "metadata": {},
   "source": [
    "### Algunos métodos de las listas\n",
    "\n",
    "|Método          |Decripción                               | Peor caso coste amortizado|\n",
    "|:--------------|:------------------------------------------ | -----:|\n",
    "|L.append(e)   |añade el objeto e al final de la lista L | $O(1)$|\n",
    "|L.pop()   |elimina y devuelve el último elemento de la lista L. Lanza una excepción si L está vacía | $O(1)$|\n",
    "|L.pop(i)   |elimina y devuelve el elemento que ocupa la posición i de la lista L. Lanza una excepción si L está vacía | $O(n)$|\n",
    "|L.count(e)    |retorna le número de veces que aprece el objeto `e` en la lista L | $O(n)$|\n",
    "|L.insert(i, e)|añade el objeto e en la lista L en la posición i | $O(n)$|\n",
    "|L.remove(e)|elimina la primera ocurrencia del objeto e en la lista L| $O(n)$|\n",
    "|L.extend(L1)|añade los elementos de la lista L1 al final de la lista L | $O(k)$|\n",
    "|L.sort()|ordena en orden ascendente los elementos de la lista L | $O(n \\log n)$|"
   ]
  },
  {
   "cell_type": "code",
   "execution_count": 23,
   "metadata": {},
   "outputs": [
    {
     "name": "stdout",
     "output_type": "stream",
     "text": [
      "[]\n"
     ]
    }
   ],
   "source": [
    "#Tuplas son iterables\n",
    "#Son listas pero inmutables. Este tipo de datos se crear cuando quieres crear una lista pero que no implique la modificación de sus valores.\n",
    "#Ejemplos\n",
    "my_tuple = (1, 2)\n",
    "other_tuple = 3, 4\n",
    "\n",
    "#Tuplas son inmutables\n",
    "try:\n",
    "    my_tuple[1] = 3\n",
    "except TypeError:\n",
    "    print(\"No se puede modificar una tupla\")\n",
    "\n",
    "#Es una manera conveniente de retornar múltiples valores\n",
    "#Ejemplo\n",
    "def sum_and_product(x, y):\n",
    "    return (x + y), (x * y)\n",
    "\n",
    "#Las tuplas son útiles para intercambiar valores (Pythonic way)\n",
    "x, y = 1, 2\n",
    "x, y = y, x"
   ]
  }
 ],
 "metadata": {
  "kernelspec": {
   "display_name": "AEDAS",
   "language": "python",
   "name": "python3"
  },
  "language_info": {
   "codemirror_mode": {
    "name": "ipython",
    "version": 3
   },
   "file_extension": ".py",
   "mimetype": "text/x-python",
   "name": "python",
   "nbconvert_exporter": "python",
   "pygments_lexer": "ipython3",
   "version": "3.10.12"
  },
  "orig_nbformat": 4
 },
 "nbformat": 4,
 "nbformat_minor": 2
}
