{
 "cells": [
  {
   "cell_type": "markdown",
   "metadata": {},
   "source": [
    "En Python se pueden crear condicionales como en la mayoría de lenguajes de programación"
   ]
  },
  {
   "cell_type": "code",
   "execution_count": 2,
   "metadata": {},
   "outputs": [
    {
     "name": "stdout",
     "output_type": "stream",
     "text": [
      "par\n"
     ]
    }
   ],
   "source": [
    "#Ejemplo\n",
    "if 1 > 2:\n",
    "    message = \"si 1 fuera mayor que 2\"\n",
    "elif 1 > 3:\n",
    "    message = \"elif es 'else if'\"\n",
    "else:\n",
    "    message = \"cuando los demás condicionales no se cumplan\"\n",
    "\n",
    "#También se puede implementar una condición ternaria\n",
    "x = 9\n",
    "parity = \"par\" if x % 2 == 0 else \"impar\""
   ]
  },
  {
   "cell_type": "code",
   "execution_count": 1,
   "metadata": {},
   "outputs": [
    {
     "name": "stdout",
     "output_type": "stream",
     "text": [
      "0 es menor que 10\n",
      "1 es menor que 10\n",
      "2 es menor que 10\n",
      "3 es menor que 10\n",
      "4 es menor que 10\n",
      "5 es menor que 10\n",
      "6 es menor que 10\n",
      "7 es menor que 10\n",
      "8 es menor que 10\n",
      "9 es menor que 10\n",
      "0 es menor que 10\n",
      "1 es menor que 10\n",
      "2 es menor que 10\n",
      "3 es menor que 10\n",
      "4 es menor que 10\n",
      "5 es menor que 10\n",
      "6 es menor que 10\n",
      "7 es menor que 10\n",
      "8 es menor que 10\n",
      "9 es menor que 10\n",
      "0\n",
      "1\n",
      "2\n",
      "4\n",
      "Nombre Alicia en la posición 0\n",
      "Nombre Pepe en la posición 1\n",
      "Nombre Carlos en la posición 2\n"
     ]
    }
   ],
   "source": [
    "#Loops\n",
    "#While Loops\n",
    "x = 0\n",
    "while x < 10:\n",
    "    print(f\"{x} es menor que 10\")\n",
    "    x += 1\n",
    "\n",
    "#For Loops \n",
    "#range(10) son los números 0, 1, 2, ..., 9\n",
    "for x in range(10):\n",
    "    print(f\"{x} es menor que 10\")\n",
    "\n",
    "for x in range(10):\n",
    "    if x == 3:\n",
    "        continue # Salta inmediatamente a la siguiente iteración\n",
    "    if x == 5:\n",
    "        break # No continúa el loop\n",
    "    print(x)\n",
    "\n",
    "#Usualmente necesitamos iterar toda la lista y no solamente queremos los valores, sino también los índices\n",
    "#La forma usual de Python es:\n",
    "names = [\"Alicia\", \"Pepe\", \"Carlos\"]\n",
    "for i, name in enumerate(names):\n",
    "    print(f\"Nombre {name} en la posición {i}\")\n",
    "#Mejor manera de hacer las iteraciones. En caso de no necesitar un valor usa _"
   ]
  }
 ],
 "metadata": {
  "kernelspec": {
   "display_name": "AEDAS",
   "language": "python",
   "name": "python3"
  },
  "language_info": {
   "codemirror_mode": {
    "name": "ipython",
    "version": 3
   },
   "file_extension": ".py",
   "mimetype": "text/x-python",
   "name": "python",
   "nbconvert_exporter": "python",
   "pygments_lexer": "ipython3",
   "version": "3.10.12"
  },
  "orig_nbformat": 4
 },
 "nbformat": 4,
 "nbformat_minor": 2
}
